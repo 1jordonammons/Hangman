{
  "nbformat": 4,
  "nbformat_minor": 0,
  "metadata": {
    "colab": {
      "provenance": []
    },
    "kernelspec": {
      "name": "python3",
      "display_name": "Python 3"
    },
    "language_info": {
      "name": "python"
    }
  },
  "cells": [
    {
      "cell_type": "code",
      "execution_count": null,
      "metadata": {
        "id": "lPNHB8uagoNv"
      },
      "outputs": [],
      "source": [
        "hangman = input(\"what is you're word \")\n",
        "\n",
        "heart = 5\n",
        "\n",
        "guess_letters = []\n",
        "\n",
        "while heart != 0:\n",
        "\n",
        "  guess = input(\"guess the letter\")\n",
        "\n",
        "  if guess in hangman:\n",
        "      guess_letters.append(guess)\n",
        "\n",
        "      print(f' good job you have {heart} hearts left continue ')\n",
        "\n",
        "      print(f'good have guessed {guess_letters} so far ')\n",
        "\n",
        "  else:\n",
        "      heart = heart - 1\n",
        "\n",
        "      guess_letters.append(guess)\n",
        "\n",
        "      print(f' WRONG  you have {heart} hearts left continue at your risk ')\n",
        "\n",
        "      print(f' you have guessed {guess_letters} so far ')\n",
        "\n",
        "\n",
        "\n",
        "  if all(letter in guess_letters for letter in hangman):\n",
        "        print(f'Congratulations! You won with {heart} hearts left. The word is  {hangman}')\n",
        "        print(\"Try again with fewer hearts.\")\n",
        "        break\n",
        "\n",
        "  if heart == 0:\n",
        "    print(\"you lose \")\n",
        "    break\n",
        "\n",
        "\n",
        "\n",
        "\n",
        "\n",
        "\n",
        "\n",
        "\n",
        "\n",
        "\n"
      ]
    }
  ]
}